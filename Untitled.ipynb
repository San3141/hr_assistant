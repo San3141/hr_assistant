{
 "cells": [
  {
   "cell_type": "code",
   "execution_count": 1,
   "id": "b3f41da7-79cb-40eb-96e2-09401c5564b2",
   "metadata": {},
   "outputs": [],
   "source": [
    "from langchain_community.document_loaders import PyPDFLoader\n",
    "\n",
    "loader = PyPDFLoader(\"HR Policies.pdf\")\n",
    "doc = []\n",
    "async for page in loader.alazy_load():\n",
    "    doc.append(page)\n",
    "\n"
   ]
  },
  {
   "cell_type": "code",
   "execution_count": 2,
   "id": "4b248221-c443-4123-a0fe-347bc3157e3d",
   "metadata": {},
   "outputs": [],
   "source": [
    "from dotenv import load_dotenv\n",
    "\n",
    "load_dotenv()\n",
    "from langchain_google_genai import GoogleGenerativeAIEmbeddings\n",
    "\n",
    "embeddings = GoogleGenerativeAIEmbeddings(model=\"models/embedding-001\")"
   ]
  },
  {
   "cell_type": "code",
   "execution_count": 3,
   "id": "d25b7d8e-0af1-4771-b388-d5ba80054660",
   "metadata": {},
   "outputs": [
    {
     "name": "stdout",
     "output_type": "stream",
     "text": [
      "[Document(metadata={'producer': 'Skia/PDF m141 Google Docs Renderer', 'creator': 'PyPDF', 'creationdate': '', 'title': 'HR Policies Draft', 'source': 'HR Policies.pdf', 'total_pages': 5, 'page': 0, 'page_label': '1'}, page_content='StackPro  Technologies-  Human  Resource  Policy  Manual   (Formulated  within  Establishments  Act  1962,  the  Companies  Act,  2013,  and  \\nother\\n \\napplicable\\n \\nstatutes)\\n \\nEffective  Onwards:  September  1,  2025\\n \\nIntroduction  \\nThis  document  delineates  the  Human  Resource  Policies  governing  StackPro  Technologies  \\nPvt\\n \\nLtd\\n,\\n \\neffective\\n \\nfrom\\n \\nSeptember\\n \\n1,\\n \\n2025\\n.\\n \\nIt\\n \\nupholds\\n \\nstatutory\\n \\ncompliance,\\n \\nensures\\n \\norganizational\\n \\ndiscipline,\\n \\nin\\n \\naccordance\\n \\nwith\\n \\nIndian\\n \\nlabour\\n \\nregulations\\n \\nand\\n \\ncorporate\\n \\ngovernance\\n \\nmandates.\\n \\nAll  employees  are  legally  obligated  to  comply  fully  with  the  provisions  of  the  Indian  Labour  \\nLaws,\\n \\nthe\\n \\nCompanies\\n \\nAct,\\n \\nand\\n \\ninternal\\n \\ncompany\\n \\nregulations\\n \\nat\\n \\nall\\n \\ntimes\\n \\nduring\\n \\ntheir\\n \\nemployment'), Document(metadata={'producer': 'Skia/PDF m141 Google Docs Renderer', 'creator': 'PyPDF', 'creationdate': '', 'title': 'HR Policies Draft', 'source': 'HR Policies.pdf', 'total_pages': 5, 'page': 0, 'page_label': '1'}, page_content='Act,\\n \\nand\\n \\ninternal\\n \\ncompany\\n \\nregulations\\n \\nat\\n \\nall\\n \\ntimes\\n \\nduring\\n \\ntheir\\n \\nemployment\\n \\ntenure.\\n   \\n1.  Employee  Classification  \\n●  Full-Time  Employees:   Employees  working  40  hours  per  week.  ●  Contractual  Employees:  Employees  hired  on  a  fixed-term  basis  for  a  project  or  time  \\nperiod.\\n ●  Interns:  Temporary  appointments  for  a  limited  duration.  \\nNote:  Classification  determines  eligibility  for  statutory  benefits,  leaves,  provident  fund  \\ncontributions,\\n \\nand\\n \\nwork-from-home\\n \\nprivileges\\n \\nunder\\n \\napplicable\\n \\nlegislation.\\n \\n \\n2.  Working  Hours   \\n●  Work  Schedule:   Flexible  working  hours  from  Monday  through  Friday  (5  Days  a  Week)'), Document(metadata={'producer': 'Skia/PDF m141 Google Docs Renderer', 'creator': 'PyPDF', 'creationdate': '', 'title': 'HR Policies Draft', 'source': 'HR Policies.pdf', 'total_pages': 5, 'page': 0, 'page_label': '1'}, page_content='●  Work  Schedule:   Flexible  working  hours  from  Monday  through  Friday  (5  Days  a  Week)  \\nNote:  Core  business  hours  are  encouraged,  as  aligned  with  project  needs,  to  facilitate  \\neffective\\n \\ncollaboration.\\n \\nNon-compliance\\n \\nwith\\n \\nrequirements\\n \\nwill\\n \\nbe\\n \\nsubject\\n \\nto\\n \\ndisciplinary\\n \\nscrutiny\\n \\nin\\n \\nline\\n \\nwith\\n \\nthe\\n \\nFactories\\n \\nAct,\\n \\n1948.\\n \\n \\n3.  Leave  Policy  \\n●  Full  time  employees  are  entitled  to  24  annual  leaves ,  inclusive  of  Casual,  Sick  and  \\nEarned\\n \\nLeaves.\\n \\n \\nNote:  Applications  for  leave  spanning  more  than  2  consecutive  days  must  be  requested  and  \\napproved\\n \\nat\\n \\nleast\\n \\n7\\n \\ndays\\n \\nin\\n \\nadvance\\n.\\n  \\nLeave\\n \\nfor\\n \\n1\\n \\nor\\n \\n2\\n \\ndays\\n \\nrequires\\n \\nsubmission\\n \\nand\\n \\napproval\\n \\nno\\n \\nless\\n \\nthan\\n \\n1\\n \\nday\\n \\nprior\\n.\\n \\nEmergency'), Document(metadata={'producer': 'Skia/PDF m141 Google Docs Renderer', 'creator': 'PyPDF', 'creationdate': '', 'title': 'HR Policies Draft', 'source': 'HR Policies.pdf', 'total_pages': 5, 'page': 0, 'page_label': '1'}, page_content='days\\n \\nrequires\\n \\nsubmission\\n \\nand\\n \\napproval\\n \\nno\\n \\nless\\n \\nthan\\n \\n1\\n \\nday\\n \\nprior\\n.\\n \\nEmergency\\n \\nleave\\n \\nmust\\n \\nbe\\n \\nreported\\n \\nimmediately\\n \\nto\\n \\nHR\\n \\nand\\n \\nthe\\n \\nReporting\\n \\nAuthority'), Document(metadata={'producer': 'Skia/PDF m141 Google Docs Renderer', 'creator': 'PyPDF', 'creationdate': '', 'title': 'HR Policies Draft', 'source': 'HR Policies.pdf', 'total_pages': 5, 'page': 1, 'page_label': '2'}, page_content='4.  Work  From  Home  (WFH)  /Remote  Policy  \\n●  Policy:  Employees  are  allotted  a  maximum  of   2  WFH  monthly,   i’e,  24  days  per  \\ncalendar\\n \\nyear\\n,\\n  \\ncontingent\\n \\non\\n \\noperational\\n \\nexigencies.\\n \\n \\nNote:  WFH  requests  must  be  submitted  for  approval  at  least  1  working  day  prior .  \\nUnauthorized\\n \\nWFH\\n \\nwill\\n \\nbe\\n \\nclassified\\n \\nas\\n \\nabsenteeism\\n \\nand\\n \\nmay\\n \\nattract\\n \\ndisciplinary\\n \\naction\\n \\npursuant\\n \\nto\\n \\nIndian\\n \\nlabour\\n \\nlaws.\\n \\nThese\\n \\ncan\\n \\nnot\\n \\nbe\\n \\ncarried\\n \\nforward.\\n \\nIn\\n \\ncases\\n \\nof\\n \\nemergency,\\n \\nimmediate\\n \\nnotification\\n \\nto\\n \\nHR\\n \\nand\\n \\nreporting\\n \\nmanagers\\n \\nis\\n \\ncompulsory.\\n \\n \\n \\n5.  Provident  Fund  (PF)  Policy  \\n●  Contribution:  Both  employer  and  employee  contribute  12%  of  the  employee’s  basic  \\nsalary\\n \\nto\\n \\nthe\\n \\nProvident\\n \\nFund\\n \\nas'), Document(metadata={'producer': 'Skia/PDF m141 Google Docs Renderer', 'creator': 'PyPDF', 'creationdate': '', 'title': 'HR Policies Draft', 'source': 'HR Policies.pdf', 'total_pages': 5, 'page': 1, 'page_label': '2'}, page_content=\"salary\\n \\nto\\n \\nthe\\n \\nProvident\\n \\nFund\\n \\nas\\n \\nmandated\\n \\nby\\n \\nthe\\n \\nEmployees’\\n \\nProvident\\n \\nFund\\n \\nand\\n \\nMiscellaneous\\n \\nProvisions\\n \\nAct,\\n \\n1952.\\n ●  Coverage:  Applicable  to  all  full-time  employees;  contractual  employees  covered  as  per  \\nlegal\\n \\nstipulations.\\n ●  Administration:  Employees  shall  be  allotted  a  Universal  Account  Number  (UAN)  for  \\nprovident\\n \\nfund\\n \\ntracking\\n \\nand\\n \\nportability.\\n \\nNote:  Employees  are  responsible  for  maintaining  updated  PF  records,  including  nominee  \\ninformation.\\n \\nPF\\n \\nwithdrawals\\n \\nand\\n \\ntransfers\\n \\nmust\\n \\nbe\\n \\nprocessed\\n \\nthrough\\n \\nthe\\n \\nAuthority's\\n \\nclearance\\n \\nduring\\n \\nexit\\n \\nformalities.\\n \\n \\nImportant  Additional  Information  -\"), Document(metadata={'producer': 'Skia/PDF m141 Google Docs Renderer', 'creator': 'PyPDF', 'creationdate': '', 'title': 'HR Policies Draft', 'source': 'HR Policies.pdf', 'total_pages': 5, 'page': 1, 'page_label': '2'}, page_content=\"Authority's\\n \\nclearance\\n \\nduring\\n \\nexit\\n \\nformalities.\\n \\n \\nImportant  Additional  Information  -   \\n●  As  per  the  latest  EPFO  guidelines ,  it  is  mandatory  for  all  employees  who  do  not  \\nalready\\n \\nhave\\n \\na\\n \\nUniversal\\n \\nAccount\\n \\nNumber\\n \\n(UAN)\\n \\nto\\n \\ngenerate\\n \\nand\\n \\nactivate\\n \\ntheir\\n \\nUAN\\n \\nthrough\\n \\nthe\\n \\nUMANG\\n \\nmobile\\n \\napplication\\n \\nusing\\n \\nAadhaar-based\\n \\nface\\n \\nauthentication.\\n \\n      Here’s  the  quickest  way  to  get  your  UAN  on  the  UMANG  app:  \\n●  Open  UMANG  →  search  EPFO  →  tap  UAN  Allotment  &  Activation.   ￼  ●  Enter  your  Aadhaar  number  and  Aadhaar-linked  mobile,  tick  consent  →  Send  OTP  →  \\nverify.\\n  \\n￼\"), Document(metadata={'producer': 'Skia/PDF m141 Google Docs Renderer', 'creator': 'PyPDF', 'creationdate': '', 'title': 'HR Policies Draft', 'source': 'HR Policies.pdf', 'total_pages': 5, 'page': 1, 'page_label': '2'}, page_content='verify.\\n  \\n￼\\n ●  If  prompted,  install  the  Aadhaar  Face  RD  app  and  complete  face  authentication.   ￼  ●  Result:  ❖  If  a  UAN  already  exists,  the  app  fetches  and  sends  your  UAN  by  SMS/display.  ❖  If  not,  it  creates  and  activates  a  new  UAN  and  sends  the  UAN  +  temp  password  by  \\nSMS.\\n  \\n￼\\n ❖  To  view  it  anytime:  in  EPFO  on  UMANG,  tap  Download  UAN  Card  (your  UAN  \\nshows\\n \\non\\n \\nthe\\n \\ncard).'), Document(metadata={'producer': 'Skia/PDF m141 Google Docs Renderer', 'creator': 'PyPDF', 'creationdate': '', 'title': 'HR Policies Draft', 'source': 'HR Policies.pdf', 'total_pages': 5, 'page': 2, 'page_label': '3'}, page_content='●  The  UAN  is  essential  for  Provident  Fund  (PF)  compliance,  statutory  contributions,  \\nand\\n \\naccess\\n \\nto\\n \\nPF-related\\n \\nbenefits.\\n \\nEmployees\\n \\nare\\n \\nrequired\\n \\nto\\n \\ncomplete\\n \\nthis\\n \\nprocess\\n \\npromptly\\n \\nand\\n \\nshare\\n \\ntheir\\n \\nUAN\\n \\ndetails\\n \\nwith\\n \\nHR\\n \\nfor\\n \\nrecord\\n \\npurposes.\\n \\nFailure\\n \\nto\\n \\ndo\\n \\nso\\n \\nmay\\n \\nresult\\n \\nin\\n \\nnon-processing\\n \\nof\\n \\nPF\\n \\ncontributions\\n \\nand\\n \\nrelated\\n \\nstatutory\\n \\nbenefits.\\n \\n \\n \\n6.  Confidentiality  &  Company  Property  \\n●  NDA  Compliance:  All  employees  must  sign  a  Non-Disclosure  Agreement  (NDA)  to  \\nprotect\\n \\nsensitive\\n \\nbusiness,\\n \\nclient,\\n \\nand\\n \\nintellectual\\n \\nproperty\\n \\ninformation.\\n ●  Asset  Responsibility:  Company-provided  assets  (laptops,  software,  ID  cards,  etc.)  must  \\nbe\\n \\nused\\n \\nsolely\\n \\nfor\\n \\nofficial\\n \\npurposes'), Document(metadata={'producer': 'Skia/PDF m141 Google Docs Renderer', 'creator': 'PyPDF', 'creationdate': '', 'title': 'HR Policies Draft', 'source': 'HR Policies.pdf', 'total_pages': 5, 'page': 2, 'page_label': '3'}, page_content='be\\n \\nused\\n \\nsolely\\n \\nfor\\n \\nofficial\\n \\npurposes\\n \\nand\\n \\nmaintained\\n \\nwith\\n \\ncare.\\n \\nUnauthorized\\n \\nuse,\\n \\nduplication,\\n \\nor\\n \\ndistribution\\n \\nof\\n \\ncompany\\n \\nproperty\\n \\nis\\n \\nstrictly\\n \\nforbidden.\\n ●  Asset  Handover:  During  exit  or  asset  replacement,  employees  must  complete  and  \\nsubmit\\n \\nthe\\n \\nAsset\\n \\nHandover\\n \\nForm\\n \\nto\\n \\nthe\\n \\nHR\\n \\ndepartment.\\n \\nNote:  Any  misuse,  damage,  or  non-return  of  company  property  may  result  in  financial  recovery  \\nor\\n \\ndisciplinary\\n \\naction.\\n \\nBreach\\n \\nof\\n \\nconfidentiality\\n \\nwill\\n \\ntrigger\\n \\ndisciplinary\\n \\naction,\\n \\nincluding\\n \\ntermination\\n \\nand\\n \\nlegal\\n \\nproceedings.\\n \\n \\n7.  Code  of  Conduct  \\n●  Professionalism:  Employees  are  expected  to  conduct  themselves  with  utmost  integrity,  \\nrespect,\\n \\nand\\n \\ndecorum.'), Document(metadata={'producer': 'Skia/PDF m141 Google Docs Renderer', 'creator': 'PyPDF', 'creationdate': '', 'title': 'HR Policies Draft', 'source': 'HR Policies.pdf', 'total_pages': 5, 'page': 2, 'page_label': '3'}, page_content='respect,\\n \\nand\\n \\ndecorum.\\n ●  Harassment  &  Discrimination:  Zero  tolerance  is  maintained  for  any  form  of  \\nharassment,\\n \\ndiscrimination,\\n \\nor\\n \\nunethical\\n \\nbehavior.\\n ●  Compliance:  Employees  must  adhere  strictly  to  all  internal  policies,  including  IT  usage  \\nand\\n \\ncommunication\\n \\nprotocols.\\n \\nNote:  Violations  will  be  met  with  disciplinary  procedures  as  outlined  under  the  Industrial  \\nEmployment\\n \\n(Standing\\n \\nOrders)\\n \\nAct,\\n \\n1946.\\n \\nEmployees\\n \\nare\\n \\nencouraged\\n \\nto\\n \\nreport\\n \\nviolations\\n \\nwithout\\n \\nfear\\n \\nof\\n \\nretaliation.'), Document(metadata={'producer': 'Skia/PDF m141 Google Docs Renderer', 'creator': 'PyPDF', 'creationdate': '', 'title': 'HR Policies Draft', 'source': 'HR Policies.pdf', 'total_pages': 5, 'page': 3, 'page_label': '4'}, page_content='8.  Performance  &  Appraisal  \\n●  Evaluation:  Performance  reviews  shall  be  conducted  annually  with  interim  feedback  as  \\nnecessary.\\n ●  Criteria:  Assessment  based  on  project  delivery,  teamwork,  innovation,  and  client  \\nsatisfaction\\n ●  Rewards:  Exemplary  performance  may  be  recognized  through  bonuses,  promotions,  or  \\nother\\n \\nincentives.\\n Note:  Documentation  of  performance  are  maintained  in  the  internal  systems  \\nEmployees\\n \\nare\\n \\nencouraged\\n \\nto\\n \\nengage\\n \\nproactively\\n \\nin\\n \\ntheir\\n \\ndevelopment\\n \\nand\\n \\nfeedback\\n \\nprocess.\\n  \\n9.  Grievance  Redressal  \\n●  Reporting:  Employees  may  lodge  grievances  confidentially  through  the  designated  HR  \\nchannels.'), Document(metadata={'producer': 'Skia/PDF m141 Google Docs Renderer', 'creator': 'PyPDF', 'creationdate': '', 'title': 'HR Policies Draft', 'source': 'HR Policies.pdf', 'total_pages': 5, 'page': 3, 'page_label': '4'}, page_content=\"channels.\\n ●  Fairness:  All  complaints  will  be  impartially  investigated  and  resolved  in  a  timely  \\nmanner.\\n ●  Protection:  Employees  reporting  grievances  in  good  faith  are  protected  from  retaliation  \\nNote:  Complaints  relating  to  harassment  shall  be  escalated  to  the  Internal  Higher  Authorities.  \\nResolution\\n \\ntimelines\\n \\nwill\\n \\nnot\\n \\nexceed\\n \\n10\\n \\nworking\\n \\ndays\\n \\nfrom\\n \\nlodging\\n \\nthe\\n \\ncomplaint.\\n \\n \\n \\n10.  Separation  &  Exit  Procedures  \\n      10.1  Notice  Period  ●  Employees  must  provide  a  minimum  of  60  days'  (2  months)  written  notice  for  \\nresignation.\"), Document(metadata={'producer': 'Skia/PDF m141 Google Docs Renderer', 'creator': 'PyPDF', 'creationdate': '', 'title': 'HR Policies Draft', 'source': 'HR Policies.pdf', 'total_pages': 5, 'page': 3, 'page_label': '4'}, page_content='resignation.\\n ●  Employer  termination  will  follow  the  legally  mandated  notice  period  or  payment  in  lieu.  ●  Immediate  termination  may  be  enforced  in  cases  of  gross  misconduct  or  policy  violation.  \\n      10.2  Termination  &  Exit  \\n●  Employees  must  complete  all  exit  formalities,  including  the  return  of  company  assets  \\nand\\n \\nhandover\\n \\nof\\n \\nresponsibilities.\\n ●  Upon  satisfactory  clearance,  employees  will  receive  a  relieving  letter,  experience  \\ncertificate,\\n \\nand\\n \\nfinal\\n \\nsettlement.\\n ●  Unauthorized  absence  during  the  notice  or  exit  period  will  be  treated  as  abandonment  of  \\nemployment.'), Document(metadata={'producer': 'Skia/PDF m141 Google Docs Renderer', 'creator': 'PyPDF', 'creationdate': '', 'title': 'HR Policies Draft', 'source': 'HR Policies.pdf', 'total_pages': 5, 'page': 4, 'page_label': '5'}, page_content='Note:  Failure  to  serve  the  required  notice  without  prior  approval  may  lead  to  forfeiture  of  \\nbenefits\\n \\nand\\n \\npossible\\n \\nlegal\\n \\naction.\\n \\nNon-compliance\\n \\nwith\\n \\nexit\\n \\nprotocols\\n \\nmay\\n \\ndelay\\n \\nfinal\\n \\nsettlement\\n \\nand\\n \\naffect\\n \\nfuture\\n \\nreferences.\\n \\n \\n \\n11.  Policy  Amendment  \\n●  Review:  Policies  are  subject  to  periodic  review  to  maintain  legal  compliance  and  \\norganizational\\n \\nrelevance.\\n ●  Communication:  Amendments  will  be  formally  communicated  via  official  channels.  ●  Enforcement:  Employees  are  expected  to  adhere  to  updated  policies  from  the  date  of  \\nnotification.\\n Note:  Ignorance  of  policy  changes  shall  not  excuse  non-compliance.  \\nFeedback\\n \\nfor\\n \\npolicy\\n \\nimprovement\\n \\nmay\\n \\nbe\\n \\nsubmitted\\n \\nto\\n \\nHR\\n \\nfor'), Document(metadata={'producer': 'Skia/PDF m141 Google Docs Renderer', 'creator': 'PyPDF', 'creationdate': '', 'title': 'HR Policies Draft', 'source': 'HR Policies.pdf', 'total_pages': 5, 'page': 4, 'page_label': '5'}, page_content='Feedback\\n \\nfor\\n \\npolicy\\n \\nimprovement\\n \\nmay\\n \\nbe\\n \\nsubmitted\\n \\nto\\n \\nHR\\n \\nfor\\n \\nconsideration.\\n   \\n 12.  Acknowledgment  ●  Compliance:  Employees  must  acknowledge  having  read,  understood,  and  agreed  to  \\nabide\\n \\nby\\n \\nthese\\n \\npolicies.\\n ●  Record  Keeping:  Signed  acknowledgments  shall  be  maintained  in  official  personnel  \\nfiles.\\n ●  Accountability:  Non-acknowledgment  does  not  exempt  employees  from  policy  \\nenforcement.\\n \\n \\nI  have  carefully  read  and  understood  the  contents  of  this  HR  Policy  Manual  and  hereby  \\nagree\\n \\nto\\n \\ncomply\\n \\nwith\\n \\nall\\n \\nthe\\n \\nterms\\n \\nand\\n \\nconditions\\n \\nstated\\n \\nherein.\\n \\n   _______________________________  Name:  Designation:  Date:')]\n"
     ]
    }
   ],
   "source": [
    "from langchain_text_splitters import RecursiveCharacterTextSplitter\n",
    "\n",
    "text_splitter = RecursiveCharacterTextSplitter(\n",
    "    chunk_size=800,\n",
    "    chunk_overlap=100,\n",
    "    is_separator_regex=False,\n",
    ")\n",
    "texts = text_splitter.split_documents(doc)\n",
    "print(texts)"
   ]
  },
  {
   "cell_type": "code",
   "execution_count": 4,
   "id": "3ae365ef-d692-47d8-91c8-fe7677cba027",
   "metadata": {},
   "outputs": [],
   "source": [
    "# vectore store\n",
    "from langchain_chroma import Chroma\n",
    "\n",
    "vector_store = Chroma(\n",
    "    collection_name=\"example_collection\",\n",
    "    embedding_function=embeddings,\n",
    "    persist_directory=\"./chroma_langchain_db\",\n",
    ")"
   ]
  },
  {
   "cell_type": "code",
   "execution_count": null,
   "id": "26520d1d-af15-44d1-b2a3-3634477389ec",
   "metadata": {},
   "outputs": [],
   "source": []
  }
 ],
 "metadata": {
  "kernelspec": {
   "display_name": "Python 3 (ipykernel)",
   "language": "python",
   "name": "python3"
  },
  "language_info": {
   "codemirror_mode": {
    "name": "ipython",
    "version": 3
   },
   "file_extension": ".py",
   "mimetype": "text/x-python",
   "name": "python",
   "nbconvert_exporter": "python",
   "pygments_lexer": "ipython3",
   "version": "3.13.7"
  }
 },
 "nbformat": 4,
 "nbformat_minor": 5
}
